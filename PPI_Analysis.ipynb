{
 "cells": [
  {
   "cell_type": "markdown",
   "id": "b9fce944",
   "metadata": {},
   "source": [
    "# PHASE 1: Data Parsing from Raw Excel File"
   ]
  },
  {
   "cell_type": "code",
   "execution_count": null,
   "id": "16b9ee66",
   "metadata": {},
   "outputs": [],
   "source": [
    "import pandas as pd\n",
    "import numpy as np\n",
    "from gseapy import Biomart\n",
    "from collections import Counter"
   ]
  },
  {
   "cell_type": "markdown",
   "id": "0b1ec1bd",
   "metadata": {},
   "source": [
    "### Generate the annotation files "
   ]
  },
  {
   "cell_type": "code",
   "execution_count": null,
   "id": "b0970250",
   "metadata": {},
   "outputs": [
    {
     "name": "stderr",
     "output_type": "stream",
     "text": [
      "C:\\Users\\ruman\\AppData\\Local\\Temp\\ipykernel_40464\\3845996576.py:53: FutureWarning: Downcasting object dtype arrays on .fillna, .ffill, .bfill is deprecated and will change in a future version. Call result.infer_objects(copy=False) instead. To opt-in to the future behavior, set `pd.set_option('future.no_silent_downcasting', True)`\n",
      "  zikv_ann[['Neurodevelopment', 'Inflammatory Response']] = zikv_ann[['Neurodevelopment', 'Inflammatory Response']].fillna(False)\n",
      "C:\\Users\\ruman\\AppData\\Local\\Temp\\ipykernel_40464\\3845996576.py:64: FutureWarning: Downcasting object dtype arrays on .fillna, .ffill, .bfill is deprecated and will change in a future version. Call result.infer_objects(copy=False) instead. To opt-in to the future behavior, set `pd.set_option('future.no_silent_downcasting', True)`\n",
      "  denv_ann['Liver Development'] = denv_ann['Liver Development'].fillna(False)\n",
      "C:\\Users\\ruman\\AppData\\Local\\Temp\\ipykernel_40464\\3845996576.py:65: FutureWarning: Downcasting object dtype arrays on .fillna, .ffill, .bfill is deprecated and will change in a future version. Call result.infer_objects(copy=False) instead. To opt-in to the future behavior, set `pd.set_option('future.no_silent_downcasting', True)`\n",
      "  denv_ann['Inflammatory Response'] = denv_ann['Inflammatory Response'].fillna(False)\n"
     ]
    }
   ],
   "source": [
    "# Load ZIKV and DENV data \n",
    "zikv = pd.read_csv(\"Zika Neural stem cell_GSE80434.txt\", sep=\"\\t\", skiprows=4)\n",
    "denv = pd.read_csv(\"Dengue Hepatoma cell_GSE110512.txt\", sep=\"\\t\", skiprows=4)\n",
    "\n",
    "zikv = zikv[['Gene Symbol', 'log FC', 'adjusted p-val']].rename(columns={\n",
    "    'Gene Symbol': 'symbol', 'log FC': 'logFC', 'adjusted p-val': 'adjP'\n",
    "})\n",
    "denv = denv[['Gene Symbol', 'log FC', 'adjusted p-val']].rename(columns={\n",
    "    'Gene Symbol': 'symbol', 'log FC': 'logFC', 'adjusted p-val': 'adjP'\n",
    "})\n",
    "\n",
    "# Filter DEGs \n",
    "padj_thresh = 0.05\n",
    "logfc_thresh = 1.0\n",
    "zikv_deg = zikv[(zikv['adjP'] < padj_thresh) & (abs(zikv['logFC']) > logfc_thresh)].copy()\n",
    "zikv_deg['DEG_type'] = np.where(zikv_deg['logFC'] > 0, 'Upregulated', 'Downregulated')\n",
    "\n",
    "denv_deg = denv[(denv['adjP'] < padj_thresh) & (abs(denv['logFC']) > logfc_thresh)].copy()\n",
    "denv_deg['DEG_type'] = np.where(denv_deg['logFC'] > 0, 'Upregulated', 'Downregulated')\n",
    "\n",
    "# Query GO terms from BioMart \n",
    "bm = Biomart()\n",
    "go_zikv = bm.query(dataset='hsapiens_gene_ensembl',\n",
    "                   attributes=['hgnc_symbol', 'go_id', 'name_1006'],\n",
    "                   filters={'hgnc_symbol': zikv_deg['symbol'].dropna().unique().tolist()})\n",
    "go_zikv.columns = ['symbol', 'GO_ID', 'GO_Name']\n",
    "\n",
    "go_denv = bm.query(dataset='hsapiens_gene_ensembl',\n",
    "                   attributes=['hgnc_symbol', 'go_id', 'name_1006'],\n",
    "                   filters={'hgnc_symbol': denv_deg['symbol'].dropna().unique().tolist()})\n",
    "go_denv.columns = ['symbol', 'GO_ID', 'GO_Name']\n",
    "\n",
    "# Function to flag terms \n",
    "def flag_term(df, keywords):\n",
    "    return df.groupby('symbol')['GO_Name'].apply(\n",
    "        lambda terms: any(any(k in str(term).lower() for k in keywords) for term in terms)\n",
    "    ).reset_index()\n",
    "\n",
    "# ZIKV annotation \n",
    "neuro_genes = flag_term(go_zikv, ['neurodevelopment', 'neuron', 'neurogenesis', 'brain', 'axon'])\n",
    "# apoptosis_genes_zikv = flag_term(go_zikv, ['apoptosis', 'programmed cell death'])\n",
    "inflammation_genes_zikv = flag_term(go_zikv, ['inflammatory', 'inflammation', 'cytokine', 'interferon'])\n",
    "\n",
    "zikv_ann = zikv_deg.copy()\n",
    "zikv_ann['DENV_overlap'] = zikv_ann['symbol'].isin(denv_deg['symbol'])\n",
    "zikv_ann = zikv_ann.merge(neuro_genes.rename(columns={'GO_Name': 'Neurodevelopment'}), on='symbol', how='left')\n",
    "# zikv_ann = zikv_ann.merge(apoptosis_genes_zikv.rename(columns={'GO_Name': 'Cell Apoptosis'}), on='symbol', how='left')\n",
    "zikv_ann = zikv_ann.merge(inflammation_genes_zikv.rename(columns={'GO_Name': 'Inflammatory Response'}), on='symbol', how='left')\n",
    "zikv_ann[['Neurodevelopment', 'Inflammatory Response']] = zikv_ann[['Neurodevelopment', 'Inflammatory Response']].fillna(False)\n",
    "\n",
    "# DENV annotation \n",
    "liver_genes = flag_term(go_denv, ['liver', 'hepatocyte', 'bile', 'bilirubin'])\n",
    "# apoptosis_genes_denv = flag_term(go_denv, ['apoptosis', 'programmed cell death'])\n",
    "inflammation_genes = flag_term(go_denv, ['inflammatory', 'inflammation', 'cytokine', 'interferon'])\n",
    "\n",
    "denv_ann = denv_deg.copy()\n",
    "denv_ann = denv_ann.merge(liver_genes.rename(columns={'GO_Name': 'Liver Development'}), on='symbol', how='left')\n",
    "# denv_ann = denv_ann.merge(apoptosis_genes_denv.rename(columns={'GO_Name': 'Cell Apoptosis'}), on='symbol', how='left')\n",
    "denv_ann = denv_ann.merge(inflammation_genes.rename(columns={'GO_Name': 'Inflammatory Response'}), on='symbol', how='left')\n",
    "denv_ann['Liver Development'] = denv_ann['Liver Development'].fillna(False)\n",
    "denv_ann['Inflammatory Response'] = denv_ann['Inflammatory Response'].fillna(False)\n",
    "\n",
    "# Save to CSV \n",
    "zikv_ann[['symbol', 'DEG_type', 'Neurodevelopment', 'Inflammatory Response', 'DENV_overlap']].to_csv(\"ZIKV_DEG_annotation.csv\", index=False)\n",
    "denv_ann[['symbol', 'DEG_type', 'Liver Development', 'Inflammatory Response']].to_csv(\"DENV_DEG_annotation.csv\", index=False)\n"
   ]
  },
  {
   "cell_type": "markdown",
   "id": "8a8e030b",
   "metadata": {},
   "source": [
    "## Output files for Annotation: \n",
    "\n",
    "ZIKV_DEG_annotation.csv: includes DEG type, neurodevelopment, apoptosis, and overlap with DENV.\n",
    "\n",
    "DENV_DEG_annotation.csv: includes DEG type, liver development, and apoptosis."
   ]
  },
  {
   "cell_type": "markdown",
   "id": "02ab02be",
   "metadata": {},
   "source": [
    "## Create files for Cytoscape"
   ]
  },
  {
   "cell_type": "code",
   "execution_count": null,
   "id": "78dd59a0",
   "metadata": {},
   "outputs": [],
   "source": [
    "# Load Files\n",
    "ppi_file = \"PPI_raw_Cleaned.xlsx\"  \n",
    "denv_deg_file = \"C:/Users/ruman/Desktop/Project 2025/Final topic/1. My workflow/Analysis/DENV_DEG_annotation.csv\"  \n",
    "zikv_deg_file = \"C:/Users/ruman/Desktop/Project 2025/Final topic/1. My workflow/Analysis/ZIKV_DEG_annotation.csv\"  \n",
    "\n",
    "# Load PPI file \n",
    "df = pd.read_excel(ppi_file)\n",
    "denv_deg = pd.read_csv(denv_deg_file)\n",
    "zikv_deg = pd.read_csv(zikv_deg_file)\n",
    "\n",
    "# Add Virus Type and Clean Gene Names \n",
    "df['Virus'] = df['Bait'].apply(lambda x: 'DENV' if 'DENV' in x else 'ZIKV' if 'ZIKV' in x else 'Other')\n",
    "df['Bait_Protein'] = df['Bait'].apply(lambda x: x.split()[-1])\n",
    "df['GeneSymbol'] = df['Gene.names'].str.split().str[0]\n",
    "\n",
    "# Split DENV and ZIKV \n",
    "df_denv = df[df['Virus'] == 'DENV'].copy()\n",
    "df_zikv = df[df['Virus'] == 'ZIKV'].copy()\n",
    "\n",
    "# Get DEG Lists \n",
    "denv_deg_genes = denv_deg.iloc[:, 0].dropna().unique()\n",
    "zikv_deg_genes = zikv_deg.iloc[:, 0].dropna().unique()\n",
    "\n",
    "# Define Function for DEG-filtered Cytoscape Export with Top 2 Abundant Interactions \n",
    "def make_deg_filtered_cytoscape_tables(df_subset, deg_genes, deg_annot, virus_label):\n",
    "    # Filter to DEGs only\n",
    "    filtered = df_subset[df_subset['GeneSymbol'].isin(deg_genes)].copy()\n",
    "\n",
    "    # Sort by Abundance (descending) and keep top 2 per host\n",
    "    filtered = filtered.sort_values(by='Abundance', ascending=False)\n",
    "    filtered = filtered.groupby('GeneSymbol', as_index=False).head(2)\n",
    "\n",
    "    # Edges \n",
    "    edges = filtered[['Bait_Protein', 'GeneSymbol']].copy()\n",
    "    edges.columns = ['Source', 'Target']\n",
    "    edges['Interaction'] = 'virus-host'\n",
    "\n",
    "    # Nodes \n",
    "    viral_nodes = filtered['Bait_Protein'].unique()\n",
    "    host_nodes = filtered['GeneSymbol'].unique()\n",
    "    all_nodes = list(viral_nodes) + list(host_nodes)\n",
    "    node_df = pd.DataFrame({'Node': all_nodes})\n",
    "    node_df['Type'] = node_df['Node'].apply(lambda x: 'Virus' if x in viral_nodes else 'Host')\n",
    "\n",
    "    # Add confidence flags\n",
    "    if virus_label == 'ZIKV':\n",
    "        node_df['ZIKV_HighConfidence'] = node_df['Node'].isin(\n",
    "            filtered[filtered['ZIKV-Human M>0.72(fp) or 0.69 (ug)'].notna()]['GeneSymbol']\n",
    "        )\n",
    "    if virus_label == 'DENV':\n",
    "        node_df['DENV_HighConfidence'] = node_df['Node'].isin(\n",
    "            filtered[filtered['DENV-Human M>0.67&C>0.95'] == True]['GeneSymbol']\n",
    "        )\n",
    "\n",
    "    # Merge DEG annotation\n",
    "    annotated_nodes = pd.merge(node_df, deg_annot, left_on=\"Node\", right_on=deg_annot.columns[0], how=\"left\")\n",
    "    annotated_nodes.drop(columns=[deg_annot.columns[0]], inplace=True)\n",
    "\n",
    "    # Save tables\n",
    "    annotated_nodes.to_csv(f\"{virus_label}_cytoscape_nodes_DEG.csv\", index=False)\n",
    "    edges.to_csv(f\"{virus_label}_cytoscape_edges_DEG.csv\", index=False)\n",
    "\n",
    "    return annotated_nodes, edges\n",
    "\n",
    "# Run the Function for DENV and ZIKV \n",
    "denv_nodes_deg, denv_edges_deg = make_deg_filtered_cytoscape_tables(df_denv, denv_deg_genes, denv_deg, 'DENV')\n",
    "zikv_nodes_deg, zikv_edges_deg = make_deg_filtered_cytoscape_tables(df_zikv, zikv_deg_genes, zikv_deg, 'ZIKV')\n"
   ]
  },
  {
   "cell_type": "markdown",
   "id": "7a73ea6d",
   "metadata": {},
   "source": [
    "#  Output Files:\n",
    "DENV_cytoscape_nodes_DEG.csv\n",
    "\n",
    "DENV_cytoscape_edges_DEG.csv\n",
    "\n",
    "ZIKV_cytoscape_nodes_DEG.csv\n",
    "\n",
    "ZIKV_cytoscape_edges_DEG.csv"
   ]
  },
  {
   "cell_type": "markdown",
   "id": "3efc8aca",
   "metadata": {},
   "source": [
    "# Modify the Node file:  Making columns for Shapes and colors of the nodes in cytoscape"
   ]
  },
  {
   "cell_type": "markdown",
   "id": "9daaa57b",
   "metadata": {},
   "source": [
    "# ZIKV Node file for Cytosacpe: "
   ]
  },
  {
   "cell_type": "code",
   "execution_count": null,
   "id": "518eef1e",
   "metadata": {},
   "outputs": [],
   "source": [
    "# Load your Cytoscape node table\n",
    "file_path = \"C:/Users/ruman/Desktop/Project 2025/Final topic/1.1. Neural Stem Cell Analysis/PPI analysis/PPI_Data_CLEANED/Data for Cytosacpe/ZIKV_cytoscape_nodes_DEG.csv\"  \n",
    "df = pd.read_csv(file_path)\n"
   ]
  },
  {
   "cell_type": "code",
   "execution_count": null,
   "id": "2bafc8c8",
   "metadata": {},
   "outputs": [
    {
     "name": "stderr",
     "output_type": "stream",
     "text": [
      "C:\\Users\\ruman\\AppData\\Local\\Temp\\ipykernel_40464\\96565692.py:5: FutureWarning: Downcasting object dtype arrays on .fillna, .ffill, .bfill is deprecated and will change in a future version. Call result.infer_objects(copy=False) instead. To opt-in to the future behavior, set `pd.set_option('future.no_silent_downcasting', True)`\n",
      "  df['Neurodevelopment'] = df['Neurodevelopment'].fillna(False)\n",
      "C:\\Users\\ruman\\AppData\\Local\\Temp\\ipykernel_40464\\96565692.py:6: FutureWarning: Downcasting object dtype arrays on .fillna, .ffill, .bfill is deprecated and will change in a future version. Call result.infer_objects(copy=False) instead. To opt-in to the future behavior, set `pd.set_option('future.no_silent_downcasting', True)`\n",
      "  df['Inflammatory Response'] = df['Inflammatory Response'].fillna(False)\n"
     ]
    }
   ],
   "source": [
    "# Clean column names\n",
    "df.columns = df.columns.str.strip()\n",
    "\n",
    "# Fill NA with False for proper boolean logic\n",
    "df['Neurodevelopment'] = df['Neurodevelopment'].fillna(False)\n",
    "df['Inflammatory Response'] = df['Inflammatory Response'].fillna(False)\n",
    "\n",
    "# Create the shape label column\n",
    "def assign_shape_label(row):\n",
    "    if row['Neurodevelopment'] == True:\n",
    "        return 'Neurodevelopment'\n",
    "    elif row['Inflammatory Response'] == True:\n",
    "        return 'Inflammatory response'\n",
    "    elif row['DEG_type'] == 'ZIKV protein':\n",
    "        return 'ZIKV protein'\n",
    "    else:\n",
    "        return 'Human protein'\n",
    "\n",
    "df['Shape_Label'] = df.apply(assign_shape_label, axis=1)\n",
    "\n",
    "# Save the updated file\n",
    "df.to_csv(\"node_table_with_shape_label.csv\", index=False)\n"
   ]
  },
  {
   "cell_type": "markdown",
   "id": "84a7a47f",
   "metadata": {},
   "source": [
    "# output file: \n",
    "node_table_with_shape_label_Zika.csv\n"
   ]
  },
  {
   "cell_type": "markdown",
   "id": "4e45d10d",
   "metadata": {},
   "source": [
    "# DENV node file for cytoscape"
   ]
  },
  {
   "cell_type": "code",
   "execution_count": null,
   "id": "5c256132",
   "metadata": {},
   "outputs": [],
   "source": [
    "# Load your DENV node file \n",
    "df = pd.read_csv(\"C:/Users/ruman/Desktop/Project 2025/Final topic/1. My workflow/Analysis/DENV_cytoscape_nodes_DEG.csv\")\n",
    "\n",
    "# Clean column names (remove extra spaces)\n",
    "df.columns = df.columns.str.strip()\n",
    "\n",
    "# Define shape labeling function\n",
    "def assign_shape_label(row):\n",
    "    if row['Type'] == 'Virus':\n",
    "        return 'Virus protein'\n",
    "    elif row.get('Liver development') is True:\n",
    "        return 'Liver development'\n",
    "    elif row.get('Inflammatory Response') is True:\n",
    "        return 'Inflammatory response'\n",
    "    else:\n",
    "        return 'Human protein'\n",
    "\n",
    "# Apply function to create new column\n",
    "df['Shape_Label'] = df.apply(assign_shape_label, axis=1)\n",
    "\n",
    "# Save to new CSV\n",
    "df.to_csv(\"DENV_nodes_with_shape_labels.csv\", index=False)\n"
   ]
  },
  {
   "cell_type": "markdown",
   "id": "8228918f",
   "metadata": {},
   "source": [
    "# Output file:\n",
    "DENV_nodes_with_shape_labels.csv"
   ]
  },
  {
   "cell_type": "markdown",
   "id": "4b94713f",
   "metadata": {},
   "source": [
    "###### Drugability #########"
   ]
  },
  {
   "cell_type": "markdown",
   "id": "70f66301",
   "metadata": {},
   "source": [
    "#### Filter the Drug targets to make a short list based on:\n",
    "1. Host genes >= 2 virus-host interactions, and make a list.\n",
    "2. Filter the Go terms (from STRING) that are enriched with the above gene list and Priotize host genes involved in some functionally relevent GO terms. Make a short list for GO terms.\n",
    "3. Filter 10-12 host targets based on the frequency of the genes in the short list for GO terms."
   ]
  },
  {
   "cell_type": "markdown",
   "id": "08f550be",
   "metadata": {},
   "source": [
    "## 1. Make list of genes having more than one edges from the PPI Edge file (Host genes >= 2 virus-host interactions)"
   ]
  },
  {
   "cell_type": "code",
   "execution_count": null,
   "id": "6f715090",
   "metadata": {},
   "outputs": [
    {
     "name": "stdout",
     "output_type": "stream",
     "text": [
      "Saved: Shortlisted_Host_Genes_ZIKV.xlsx\n"
     ]
    }
   ],
   "source": [
    "# Load ZIKV PPI Edge File \n",
    "ppi_path = \"ZIKV_cytoscape_edges_DEG.csv\"  \n",
    "ppi_df = pd.read_csv(ppi_path)\n",
    "\n",
    "# Count Viral Interactions per Host Gene\n",
    "virus_host_counts = ppi_df.groupby('Target')['Source'].nunique()\n",
    "multi_virus_hosts = set(virus_host_counts[virus_host_counts >= 2].index.tolist())\n",
    "\n",
    "# Add Manually Curated DENV-Overlap Genes \n",
    "denv_overlap_genes = {\"MCM5\", \"ASNS\", \"SLC3A2\", \"PCNA\"}\n",
    "final_genes = sorted(multi_virus_hosts.union(denv_overlap_genes))\n",
    "\n",
    "# Save to Excel\n",
    "final_df = pd.DataFrame({'Shortlisted_Host_Genes': final_genes})\n",
    "final_df.to_excel(\"Shortlisted_Host_Genes_ZIKV.xlsx\", index=False)\n",
    "\n",
    "print(\"Saved: Shortlisted_Host_Genes_ZIKV.xlsx\")\n"
   ]
  },
  {
   "cell_type": "markdown",
   "id": "4bf3ac1c",
   "metadata": {},
   "source": [
    "# File for filtered genes (Host genes >= 2 virus-host interactions):\n",
    "Shortlisted_Host_Genes_ZIKV.xlsx"
   ]
  },
  {
   "cell_type": "markdown",
   "id": "6b51e33b",
   "metadata": {},
   "source": [
    "## 2. Priotize host genes involved in some functionally relevent GO terms ##"
   ]
  },
  {
   "cell_type": "markdown",
   "id": "07b3e60c",
   "metadata": {},
   "source": [
    "# GO term: Biological Fuction "
   ]
  },
  {
   "cell_type": "markdown",
   "id": "d7c16bb4",
   "metadata": {},
   "source": [
    "# Extract the GO terms from STRING raw files"
   ]
  },
  {
   "cell_type": "code",
   "execution_count": null,
   "id": "ec7aa9de",
   "metadata": {},
   "outputs": [
    {
     "name": "stdout",
     "output_type": "stream",
     "text": [
      "File saved as: ZIKV_GO_Formatted_Table.xlsx\n"
     ]
    }
   ],
   "source": [
    "# Load STRING Enrichment File \n",
    "file_path = \"C:/Users/ruman/Desktop/Project 2025/Final topic/1.1. Neural Stem Cell Analysis/STRING/ZIKV/enrichment.Process (1).tsv\"  \n",
    "df = pd.read_csv(file_path, sep=\"\\t\")\n",
    "\n",
    "# Select and Rename Relevant Columns \n",
    "df_filtered = df[[\n",
    "    'term description',\n",
    "    '#term ID',\n",
    "    'false discovery rate',\n",
    "    'matching proteins in your network (labels)'\n",
    "]].copy()\n",
    "\n",
    "df_filtered.columns = ['Description', 'GO term', 'FDR', 'Associated proteins']\n",
    "\n",
    "# Convert FDR to Significance Format (Stars) \n",
    "def fdr_to_stars(fdr):\n",
    "    if fdr < 0.0001:\n",
    "        return '****'\n",
    "    elif fdr < 0.001:\n",
    "        return '***'\n",
    "    elif fdr < 0.01:\n",
    "        return '**'\n",
    "    elif fdr < 0.05:\n",
    "        return '*'\n",
    "    else:\n",
    "        return 'ns'\n",
    "\n",
    "df_filtered['p-value'] = df_filtered['FDR'].apply(fdr_to_stars)\n",
    "\n",
    "# Final Formatting \n",
    "df_final = df_filtered[['Description', 'GO term', 'p-value', 'Associated proteins']]\n",
    "\n",
    "# Save to Excel \n",
    "output_path = \"ZIKV_GO_Formatted_Table.xlsx\"\n",
    "df_final.to_excel(output_path, index=False)\n",
    "\n",
    "print(\"File saved as:\", output_path)\n"
   ]
  },
  {
   "cell_type": "markdown",
   "id": "a8c17605",
   "metadata": {},
   "source": [
    "# Filter GO terms that include one or more of those genes filtered from: Host genes >= 2 virus-host interactions"
   ]
  },
  {
   "cell_type": "code",
   "execution_count": null,
   "id": "5578b564",
   "metadata": {},
   "outputs": [
    {
     "name": "stdout",
     "output_type": "stream",
     "text": [
      "Saved filtered GO terms with matching gene details to: Filtered_GO_Terms_With_21_Gene_Hits.xlsx\n"
     ]
    }
   ],
   "source": [
    "# Load the gene list \n",
    "gene_list_path = \"C:/Users/ruman/Desktop/Project 2025/Final topic/1.1. Neural Stem Cell Analysis/STRING/ZIKV/Filtered files/Shortlisted_Host_Genes_ZIKV.xlsx\" \n",
    "gene_list_df = pd.read_excel(gene_list_path)\n",
    "gene_list = gene_list_df.iloc[:, 0].dropna().astype(str).tolist()\n",
    "\n",
    "# Load the GO enrichment table \n",
    "go_table_path = \"ZIKV_GO_Formatted_Table.xlsx\"  \n",
    "go_df = pd.read_excel(go_table_path)\n",
    "\n",
    "# Create a new column for matched genes \n",
    "def extract_matching_genes(go_genes):\n",
    "    go_gene_set = set(g.strip() for g in go_genes.split(','))\n",
    "    matched = sorted(set(gene_list) & go_gene_set)\n",
    "    return ', '.join(matched)\n",
    "\n",
    "# Filter rows that contain any gene from the list\n",
    "go_df['Matching Genes'] = go_df['Associated proteins'].apply(extract_matching_genes)\n",
    "filtered_go_df = go_df[go_df['Matching Genes'] != '']\n",
    "\n",
    "# Save the result \n",
    "output_file = \"Filtered_GO_Terms_With_21_Gene_Hits.xlsx\"\n",
    "filtered_go_df.to_excel(output_file, index=False)\n",
    "\n",
    "print(f\"Saved filtered GO terms with matching gene details to: {output_file}\")\n"
   ]
  },
  {
   "cell_type": "markdown",
   "id": "53e7350d",
   "metadata": {},
   "source": [
    "# GO: MOlecular Function "
   ]
  },
  {
   "cell_type": "code",
   "execution_count": null,
   "id": "b36f3d57",
   "metadata": {},
   "outputs": [
    {
     "name": "stdout",
     "output_type": "stream",
     "text": [
      "File saved as: ZIKV_MF_Table.xlsx\n"
     ]
    }
   ],
   "source": [
    "# Extract the GO terms from STRING raw files\n",
    "\n",
    "# Load STRING Enrichment File \n",
    "file_path = \"C:/Users/ruman/Desktop/Project 2025/Final topic/1.1. Neural Stem Cell Analysis/STRING/ZIKV/enrichment.Function.tsv\"  \n",
    "df = pd.read_csv(file_path, sep=\"\\t\")\n",
    "\n",
    "# Select and Rename Relevant Columns \n",
    "df_filtered = df[[\n",
    "    'term description',\n",
    "    '#term ID',\n",
    "    'false discovery rate',\n",
    "    'matching proteins in your network (labels)'\n",
    "]].copy()\n",
    "\n",
    "df_filtered.columns = ['Description', 'GO term', 'FDR', 'Associated proteins']\n",
    "\n",
    "# Convert FDR to Significance Format (Stars) \n",
    "def fdr_to_stars(fdr):\n",
    "    if fdr < 0.0001:\n",
    "        return '****'\n",
    "    elif fdr < 0.001:\n",
    "        return '***'\n",
    "    elif fdr < 0.01:\n",
    "        return '**'\n",
    "    elif fdr < 0.05:\n",
    "        return '*'\n",
    "    else:\n",
    "        return 'ns'\n",
    "\n",
    "df_filtered['p-value'] = df_filtered['FDR'].apply(fdr_to_stars)\n",
    "\n",
    "# Final Formatting \n",
    "df_final = df_filtered[['Description', 'GO term', 'p-value', 'Associated proteins']]\n",
    "\n",
    "# Save to Excel\n",
    "output_path = \"ZIKV_MF_Table.xlsx\"\n",
    "df_final.to_excel(output_path, index=False)\n",
    "\n",
    "print(\"File saved as:\", output_path)\n",
    "\n"
   ]
  },
  {
   "cell_type": "code",
   "execution_count": null,
   "id": "34c8fff5",
   "metadata": {},
   "outputs": [
    {
     "name": "stdout",
     "output_type": "stream",
     "text": [
      "Saved filtered GO terms with matching gene details to: Filtered_GO_MF_With_21_Gene_Hits.xlsx\n"
     ]
    }
   ],
   "source": [
    "##  Filter GO terms that include one or more of those genes filtered from: Host genes >= 2 virus-host interactions\n",
    "\n",
    "# Load the gene list \n",
    "gene_list_path = \"C:/Users/ruman/Desktop/Project 2025/Final topic/1.1. Neural Stem Cell Analysis/STRING/ZIKV/Filtered files/Shortlisted_Host_Genes_ZIKV.xlsx\" \n",
    "gene_list_df = pd.read_excel(gene_list_path)\n",
    "gene_list = gene_list_df.iloc[:, 0].dropna().astype(str).tolist()\n",
    "\n",
    "# Load the GO enrichment table\n",
    "go_table_path = \"ZIKV_MF_Table.xlsx\"  \n",
    "go_df = pd.read_excel(go_table_path)\n",
    "\n",
    "# Create a new column for matched genes \n",
    "def extract_matching_genes(go_genes):\n",
    "    go_gene_set = set(g.strip() for g in go_genes.split(','))\n",
    "    matched = sorted(set(gene_list) & go_gene_set)\n",
    "    return ', '.join(matched)\n",
    "\n",
    "# Filter rows that contain any gene from the list\n",
    "go_df['Matching Genes'] = go_df['Associated proteins'].apply(extract_matching_genes)\n",
    "filtered_go_df = go_df[go_df['Matching Genes'] != '']\n",
    "\n",
    "# Save the result \n",
    "output_file = \"Filtered_GO_MF_With_21_Gene_Hits.xlsx\"\n",
    "filtered_go_df.to_excel(output_file, index=False)\n",
    "\n",
    "print(f\"Saved filtered GO terms with matching gene details to: {output_file}\")"
   ]
  },
  {
   "cell_type": "markdown",
   "id": "51e59a68",
   "metadata": {},
   "source": [
    "# Go: Cellular component"
   ]
  },
  {
   "cell_type": "code",
   "execution_count": null,
   "id": "d61da66e",
   "metadata": {},
   "outputs": [
    {
     "name": "stdout",
     "output_type": "stream",
     "text": [
      "File saved as: ZIKV_component_Table.xlsx\n",
      "Saved filtered GO terms with matching gene details to: Filtered_GO_Component_With_21_Gene_Hits.xlsx\n"
     ]
    }
   ],
   "source": [
    "# Extract the GO terms from STRING raw files\n",
    "\n",
    "# Load STRING Enrichment File \n",
    "file_path = \"C:/Users/ruman/Desktop/Project 2025/Final topic/1.1. Neural Stem Cell Analysis/STRING/ZIKV/enrichment.Component.tsv\"  \n",
    "df = pd.read_csv(file_path, sep=\"\\t\")\n",
    "\n",
    "# Select and Rename Relevant Columns \n",
    "df_filtered = df[[\n",
    "    'term description',\n",
    "    '#term ID',\n",
    "    'false discovery rate',\n",
    "    'matching proteins in your network (labels)'\n",
    "]].copy()\n",
    "\n",
    "df_filtered.columns = ['Description', 'GO term', 'FDR', 'Associated proteins']\n",
    "\n",
    "# Convert FDR to Significance Format (Stars) \n",
    "def fdr_to_stars(fdr):\n",
    "    if fdr < 0.0001:\n",
    "        return '****'\n",
    "    elif fdr < 0.001:\n",
    "        return '***'\n",
    "    elif fdr < 0.01:\n",
    "        return '**'\n",
    "    elif fdr < 0.05:\n",
    "        return '*'\n",
    "    else:\n",
    "        return 'ns'\n",
    "\n",
    "df_filtered['p-value'] = df_filtered['FDR'].apply(fdr_to_stars)\n",
    "\n",
    "# Final Formatting \n",
    "df_final = df_filtered[['Description', 'GO term', 'p-value', 'Associated proteins']]\n",
    "\n",
    "# Save to Excel \n",
    "output_path = \"ZIKV_component_Table.xlsx\"\n",
    "df_final.to_excel(output_path, index=False)\n",
    "\n",
    "print(\"File saved as:\", output_path)\n",
    "\n",
    "##  Filter GO terms that include one or more of those genes filtered from: Host genes >= 2 virus-host interactions\n",
    "\n",
    "# Load the gene list \n",
    "gene_list_path = \"C:/Users/ruman/Desktop/Project 2025/Final topic/1.1. Neural Stem Cell Analysis/STRING/ZIKV/Filtered files/Shortlisted_Host_Genes_ZIKV.xlsx\" \n",
    "gene_list_df = pd.read_excel(gene_list_path)\n",
    "gene_list = gene_list_df.iloc[:, 0].dropna().astype(str).tolist()\n",
    "\n",
    "# Load the GO enrichment table\n",
    "go_table_path = \"ZIKV_component_Table.xlsx\" \n",
    "go_df = pd.read_excel(go_table_path)\n",
    "\n",
    "# Create a new column for matched genes \n",
    "def extract_matching_genes(go_genes):\n",
    "    go_gene_set = set(g.strip() for g in go_genes.split(','))\n",
    "    matched = sorted(set(gene_list) & go_gene_set)\n",
    "    return ', '.join(matched)\n",
    "\n",
    "# Filter rows that contain any gene from the list\n",
    "go_df['Matching Genes'] = go_df['Associated proteins'].apply(extract_matching_genes)\n",
    "filtered_go_df = go_df[go_df['Matching Genes'] != '']\n",
    "\n",
    "# Save the result\n",
    "output_file = \"Filtered_GO_Component_With_21_Gene_Hits.xlsx\"\n",
    "filtered_go_df.to_excel(output_file, index=False)\n",
    "\n",
    "print(f\"Saved filtered GO terms with matching gene details to: {output_file}\")\n"
   ]
  },
  {
   "cell_type": "markdown",
   "id": "88729259",
   "metadata": {},
   "source": [
    "# KEGG pathways"
   ]
  },
  {
   "cell_type": "code",
   "execution_count": null,
   "id": "a1b4b8c1",
   "metadata": {},
   "outputs": [
    {
     "name": "stdout",
     "output_type": "stream",
     "text": [
      "File saved as: ZIKV_KEGG_Table.xlsx\n",
      "Saved filtered GO terms with matching gene details to: Filtered_GO_KEGG_With_21_Gene_Hits.xlsx\n"
     ]
    }
   ],
   "source": [
    "# Extract the pathways from STRING raw files\n",
    "\n",
    "# Load STRING Enrichment File \n",
    "file_path = \"C:/Users/ruman/Desktop/Project 2025/Final topic/1.1. Neural Stem Cell Analysis/STRING/ZIKV/enrichment.KEGG.tsv\"  \n",
    "df = pd.read_csv(file_path, sep=\"\\t\")\n",
    "\n",
    "# === Step 2: Select and Rename Relevant Columns ===\n",
    "df_filtered = df[[\n",
    "    'term description',\n",
    "    '#term ID',\n",
    "    'false discovery rate',\n",
    "    'matching proteins in your network (labels)'\n",
    "]].copy()\n",
    "\n",
    "df_filtered.columns = ['Description', 'GO term', 'FDR', 'Associated proteins']\n",
    "\n",
    "# === Step 3: Convert FDR to Significance Format (Stars) ===\n",
    "def fdr_to_stars(fdr):\n",
    "    if fdr < 0.0001:\n",
    "        return '****'\n",
    "    elif fdr < 0.001:\n",
    "        return '***'\n",
    "    elif fdr < 0.01:\n",
    "        return '**'\n",
    "    elif fdr < 0.05:\n",
    "        return '*'\n",
    "    else:\n",
    "        return 'ns'\n",
    "\n",
    "df_filtered['p-value'] = df_filtered['FDR'].apply(fdr_to_stars)\n",
    "\n",
    "# === Step 4: Final Formatting ===\n",
    "df_final = df_filtered[['Description', 'GO term', 'p-value', 'Associated proteins']]\n",
    "\n",
    "# === Step 5: Save to Excel ===\n",
    "output_path = \"ZIKV_KEGG_Table.xlsx\"\n",
    "df_final.to_excel(output_path, index=False)\n",
    "\n",
    "print(\"File saved as:\", output_path)\n",
    "\n",
    "##  Filter GO terms that include one or more of those genes filtered from: Host genes >= 2 virus-host interactions\n",
    "\n",
    "# === Step 1: Load the gene list ===\n",
    "gene_list_path = \"C:/Users/ruman/Desktop/Project 2025/Final topic/1.1. Neural Stem Cell Analysis/STRING/ZIKV/Filtered files/Shortlisted_Host_Genes_ZIKV.xlsx\" \n",
    "gene_list_df = pd.read_excel(gene_list_path)\n",
    "gene_list = gene_list_df.iloc[:, 0].dropna().astype(str).tolist()\n",
    "\n",
    "# === Step 2: Load the GO enrichment table ===\n",
    "go_table_path = \"ZIKV_KEGG_Table.xlsx\" \n",
    "go_df = pd.read_excel(go_table_path)\n",
    "\n",
    "# === Step 3: Create a new column for matched genes ===\n",
    "def extract_matching_genes(go_genes):\n",
    "    go_gene_set = set(g.strip() for g in go_genes.split(','))\n",
    "    matched = sorted(set(gene_list) & go_gene_set)\n",
    "    return ', '.join(matched)\n",
    "\n",
    "# Filter rows that contain any gene from the list\n",
    "go_df['Matching Genes'] = go_df['Associated proteins'].apply(extract_matching_genes)\n",
    "filtered_go_df = go_df[go_df['Matching Genes'] != '']\n",
    "\n",
    "# === Step 4: Save the result ===\n",
    "output_file = \"Filtered_GO_KEGG_With_21_Gene_Hits.xlsx\"\n",
    "filtered_go_df.to_excel(output_file, index=False)\n",
    "\n",
    "print(f\"Saved filtered GO terms with matching gene details to: {output_file}\")\n"
   ]
  },
  {
   "cell_type": "markdown",
   "id": "8524e1a2",
   "metadata": {},
   "source": [
    "# Reactome pathways"
   ]
  },
  {
   "cell_type": "code",
   "execution_count": null,
   "id": "cec850db",
   "metadata": {},
   "outputs": [
    {
     "name": "stdout",
     "output_type": "stream",
     "text": [
      "File saved as: ZIKV_RCTM_Table.xlsx\n",
      "Saved filtered GO terms with matching gene details to: Filtered_GO_RCTM_With_21_Gene_Hits.xlsx\n"
     ]
    }
   ],
   "source": [
    "# Extract the pathways from STRING raw files\n",
    "\n",
    "# Load STRING Enrichment File \n",
    "file_path = \"C:/Users/ruman/Desktop/Project 2025/Final topic/1.1. Neural Stem Cell Analysis/STRING/ZIKV/enrichment.RCTM.tsv\"  \n",
    "df = pd.read_csv(file_path, sep=\"\\t\")\n",
    "\n",
    "# Select and Rename Relevant Columns\n",
    "df_filtered = df[[\n",
    "    'term description',\n",
    "    '#term ID',\n",
    "    'false discovery rate',\n",
    "    'matching proteins in your network (labels)'\n",
    "]].copy()\n",
    "\n",
    "df_filtered.columns = ['Description', 'GO term', 'FDR', 'Associated proteins']\n",
    "\n",
    "# Convert FDR to Significance Format (Stars)\n",
    "def fdr_to_stars(fdr):\n",
    "    if fdr < 0.0001:\n",
    "        return '****'\n",
    "    elif fdr < 0.001:\n",
    "        return '***'\n",
    "    elif fdr < 0.01:\n",
    "        return '**'\n",
    "    elif fdr < 0.05:\n",
    "        return '*'\n",
    "    else:\n",
    "        return 'ns'\n",
    "\n",
    "df_filtered['p-value'] = df_filtered['FDR'].apply(fdr_to_stars)\n",
    "\n",
    "# Final Formatting \n",
    "df_final = df_filtered[['Description', 'GO term', 'p-value', 'Associated proteins']]\n",
    "\n",
    "# Save to Excel \n",
    "output_path = \"ZIKV_RCTM_Table.xlsx\"\n",
    "df_final.to_excel(output_path, index=False)\n",
    "\n",
    "print(\"File saved as:\", output_path)\n",
    "\n",
    "##  Filter GO terms that include one or more of those genes filtered from: Host genes >= 2 virus-host interactions\n",
    "\n",
    "# Load the gene list \n",
    "gene_list_path = \"C:/Users/ruman/Desktop/Project 2025/Final topic/1.1. Neural Stem Cell Analysis/STRING/ZIKV/Filtered files/Shortlisted_Host_Genes_ZIKV.xlsx\" \n",
    "gene_list_df = pd.read_excel(gene_list_path)\n",
    "gene_list = gene_list_df.iloc[:, 0].dropna().astype(str).tolist()\n",
    "\n",
    "# Load the GO enrichment table \n",
    "go_table_path = \"ZIKV_RCTM_Table.xlsx\" \n",
    "go_df = pd.read_excel(go_table_path)\n",
    "\n",
    "# Create a new column for matched genes\n",
    "def extract_matching_genes(go_genes):\n",
    "    go_gene_set = set(g.strip() for g in go_genes.split(','))\n",
    "    matched = sorted(set(gene_list) & go_gene_set)\n",
    "    return ', '.join(matched)\n",
    "\n",
    "# Filter rows that contain any gene from the list\n",
    "go_df['Matching Genes'] = go_df['Associated proteins'].apply(extract_matching_genes)\n",
    "filtered_go_df = go_df[go_df['Matching Genes'] != '']\n",
    "\n",
    "# Save the result \n",
    "output_file = \"Filtered_GO_RCTM_With_21_Gene_Hits.xlsx\"\n",
    "filtered_go_df.to_excel(output_file, index=False)\n",
    "\n",
    "print(f\"Saved filtered GO terms with matching gene details to: {output_file}\")\n"
   ]
  },
  {
   "cell_type": "markdown",
   "id": "9ddfdba2",
   "metadata": {},
   "source": [
    "### Output file for short list for GO terms: 'Short list of GO terms and pathways.xlsx'"
   ]
  },
  {
   "cell_type": "markdown",
   "id": "321cae8a",
   "metadata": {},
   "source": [
    "### 3. Filter 10-12 host targets based on the frequency of the genes in the short list for GO terms ###\n",
    "## Filter genes involved in multiple GO and sort them highest to lowest counts"
   ]
  },
  {
   "cell_type": "code",
   "execution_count": null,
   "id": "04edd711",
   "metadata": {},
   "outputs": [
    {
     "name": "stdout",
     "output_type": "stream",
     "text": [
      "Saved gene frequency table to: Gene_Frequency_From_File.xlsx\n"
     ]
    }
   ],
   "source": [
    "#  Count Frequency of Genes Across Multiple Lists\n",
    "\n",
    "# Load the Excel file \n",
    "file_path = \"C:/Users/ruman/Desktop/Project 2025/Final topic/1.1. Neural Stem Cell Analysis/STRING/ZIKV/Filtered files/Short list of GO terms and pathways.xlsx\"  \n",
    "df = pd.read_excel(file_path)\n",
    "\n",
    "# Extract the column containing comma-separated gene lists\n",
    "column_name = \"Matching Genes (genes >= 2 virus-host interactions)\"\n",
    "gene_series = df[column_name].dropna().astype(str)\n",
    "\n",
    "# Flatten the list of genes \n",
    "all_genes = [gene.strip() for entry in gene_series for gene in entry.split(\",\")]\n",
    "\n",
    "# Count gene occurrences \n",
    "gene_counts = Counter(all_genes)\n",
    "\n",
    "# Convert to DataFrame and sort \n",
    "df_counts = pd.DataFrame(gene_counts.items(), columns=[\"Gene\", \"Count\"])\n",
    "df_counts = df_counts.sort_values(by=\"Count\", ascending=False)\n",
    "\n",
    "# Save to Excel \n",
    "output_file = \"Gene_Frequency_From_File.xlsx\"\n",
    "df_counts.to_excel(output_file, index=False)\n",
    "\n",
    "print(f\"Saved gene frequency table to: {output_file}\")\n"
   ]
  },
  {
   "cell_type": "markdown",
   "id": "d9618426",
   "metadata": {},
   "source": [
    "### 3. Filter 10-12 host targets based on the frequency of the genes from all GO terms ###"
   ]
  },
  {
   "cell_type": "code",
   "execution_count": null,
   "id": "33021442",
   "metadata": {},
   "outputs": [
    {
     "name": "stdout",
     "output_type": "stream",
     "text": [
      "Saved gene frequency table to: Gene_Frequency_From_All_GO_terms.xlsx\n"
     ]
    }
   ],
   "source": [
    "# Count Frequency of Genes Across Multiple Lists\n",
    "import pandas as pd\n",
    "from collections import Counter\n",
    "\n",
    "# Load the Excel file \n",
    "file_path = \"C:/Users/ruman/Desktop/Project 2025/Final topic/1.1. Neural Stem Cell Analysis/STRING/ZIKV/Filtered files/All GO terms from STRING_ZIKA.xlsx\"  \n",
    "df = pd.read_excel(file_path)\n",
    "\n",
    "# Extract the column containing comma-separated gene lists\n",
    "column_name = \"Matching Genes\"\n",
    "gene_series = df[column_name].dropna().astype(str)\n",
    "\n",
    "# Flatten the list of genes \n",
    "all_genes = [gene.strip() for entry in gene_series for gene in entry.split(\",\")]\n",
    "\n",
    "# Count gene occurrences \n",
    "gene_counts = Counter(all_genes)\n",
    "\n",
    "# Convert to DataFrame and sort \n",
    "df_counts = pd.DataFrame(gene_counts.items(), columns=[\"Gene\", \"Count\"])\n",
    "df_counts = df_counts.sort_values(by=\"Count\", ascending=False)\n",
    "\n",
    "# Save to Excel \n",
    "output_file = \"Gene_Frequency_From_All_GO_terms.xlsx\"\n",
    "df_counts.to_excel(output_file, index=False)\n",
    "\n",
    "print(f\"Saved gene frequency table to: {output_file}\")\n"
   ]
  },
  {
   "cell_type": "markdown",
   "id": "f7b6145e",
   "metadata": {},
   "source": [
    "# Output file for frequency: 'Gene_Frequency_From_All_GO_terms.xlsx'"
   ]
  },
  {
   "cell_type": "markdown",
   "id": "bce056b8",
   "metadata": {},
   "source": [
    "# Final file for 15 short listed Drug Target Genes: 'Final_Target_Genes_shortlist'"
   ]
  },
  {
   "cell_type": "code",
   "execution_count": null,
   "id": "cd617cfa",
   "metadata": {},
   "outputs": [
    {
     "name": "stdout",
     "output_type": "stream",
     "text": [
      "Cytoscape files and ZIKV-interacting excluded genes saved.\n"
     ]
    }
   ],
   "source": [
    "# Load Files \n",
    "ppi_file = \"PPI_raw_Cleaned.xlsx\"  \n",
    "zikv_deg_file = \"ZIKV_DEG_annotation.csv\"  \n",
    "\n",
    "df = pd.read_excel(ppi_file)\n",
    "zikv_deg = pd.read_csv(zikv_deg_file)\n",
    "\n",
    "# Annotate Virus Type and Clean Names \n",
    "df['Virus'] = df['Bait'].apply(lambda x: 'ZIKV' if 'ZIKV' in x else 'DENV' if 'DENV' in x else 'Other')\n",
    "df['Bait_Protein'] = df['Bait'].apply(lambda x: x.split()[-1])\n",
    "df['GeneSymbol'] = df['Gene.names'].str.split().str[0]\n",
    "\n",
    "# Filter for ZIKV data only \n",
    "df_zikv = df[df['Virus'] == 'ZIKV'].copy()\n",
    "zikv_deg_genes = zikv_deg.iloc[:, 0].dropna().unique()\n",
    "\n",
    "# Define Excluded Genes \n",
    "excluded_genes = ['CDK1', 'PCNA', 'AURKB', 'FANCD2', 'SQSTM1', 'SLC3A2', 'ASNS', 'SLC7A5', 'SLC25A10']\n",
    "\n",
    "# Create DEG-Filtered Cytoscape Files (excluding the 9 genes)\n",
    "def make_zikv_cytoscape_excluding_9(df_zikv, deg_genes, deg_annot, excluded_genes):\n",
    "    # Filter to DEGs excluding the 9 genes\n",
    "    filtered = df_zikv[df_zikv['GeneSymbol'].isin(deg_genes) & ~df_zikv['GeneSymbol'].isin(excluded_genes)].copy()\n",
    "\n",
    "    # Sort by abundance and keep top 2 per host gene\n",
    "    filtered = filtered.sort_values(by='Abundance', ascending=False)\n",
    "    filtered = filtered.groupby('GeneSymbol', as_index=False).head(2)\n",
    "\n",
    "    # Edge Table \n",
    "    edges = filtered[['Bait_Protein', 'GeneSymbol']].copy()\n",
    "    edges.columns = ['Source', 'Target']\n",
    "    edges['Interaction'] = 'virus-host'\n",
    "    edges.to_csv(\"ZIKV_cytoscape_edges_filtered.csv\", index=False)\n",
    "\n",
    "    # Node Table \n",
    "    viral_nodes = filtered['Bait_Protein'].unique()\n",
    "    host_nodes = filtered['GeneSymbol'].unique()\n",
    "    all_nodes = list(viral_nodes) + list(host_nodes)\n",
    "\n",
    "    node_df = pd.DataFrame({'Node': all_nodes})\n",
    "    node_df['Type'] = node_df['Node'].apply(lambda x: 'Virus' if x in viral_nodes else 'Host')\n",
    "    node_df['ZIKV_HighConfidence'] = node_df['Node'].isin(\n",
    "        filtered[filtered['ZIKV-Human M>0.72(fp) or 0.69 (ug)'].notna()]['GeneSymbol']\n",
    "    )\n",
    "\n",
    "    # Merge DEG annotations\n",
    "    annotated_nodes = pd.merge(node_df, deg_annot, left_on=\"Node\", right_on=deg_annot.columns[0], how=\"left\")\n",
    "    annotated_nodes.drop(columns=[deg_annot.columns[0]], inplace=True)\n",
    "    annotated_nodes.to_csv(\"ZIKV_cytoscape_nodes_filtered.csv\", index=False)\n",
    "\n",
    "    return edges, annotated_nodes\n",
    "\n",
    "edges, nodes = make_zikv_cytoscape_excluding_9(df_zikv, zikv_deg_genes, zikv_deg, excluded_genes)\n",
    "\n",
    "# Get ZIKV interactions for the 9 excluded genes \n",
    "excluded_interactions = df_zikv[df_zikv['GeneSymbol'].isin(excluded_genes)]\n",
    "interaction_summary = excluded_interactions.groupby('GeneSymbol')['Bait_Protein'].unique().reset_index()\n",
    "interaction_summary.columns = ['Gene', 'ZIKV_Proteins']\n",
    "interaction_summary['ZIKV_Proteins'] = interaction_summary['ZIKV_Proteins'].apply(lambda x: \", \".join(sorted(set(x))))\n",
    "interaction_summary.to_excel(\"ZIKV_interactions_for_excluded_genes.xlsx\", index=False)\n",
    "\n",
    "print(\"Cytoscape files and ZIKV-interacting excluded genes saved.\")\n"
   ]
  },
  {
   "cell_type": "markdown",
   "id": "1f0eb8a5",
   "metadata": {},
   "source": [
    "outputs: \n",
    "ZIKV_cytoscape_edges_filtered.csv: edges for DEG host proteins excluding the 9 genes\n",
    "\n",
    "ZIKV_cytoscape_nodes_filtered.csv: annotated node file for Cytoscape.\n",
    "\n",
    "ZIKV_interactions_for_excluded_genes.xlsx: list of 9 genes and which ZIKV proteins interact with them."
   ]
  },
  {
   "cell_type": "code",
   "execution_count": 1,
   "id": "2a8d067d",
   "metadata": {},
   "outputs": [
    {
     "name": "stderr",
     "output_type": "stream",
     "text": [
      "[NbConvertApp] Converting notebook PPI_Analysis.ipynb to webpdf\n",
      "[NbConvertApp] Building PDF\n",
      "[NbConvertApp] PDF successfully created\n",
      "[NbConvertApp] Writing 151805 bytes to PPI_Analysis.pdf\n"
     ]
    }
   ],
   "source": [
    "# Save to PDF\n",
    "!jupyter nbconvert \"PPI_Analysis.ipynb\" --to webpdf \\\n",
    "  --WebPDFExporter.allow_chromium_download=True \\\n",
    "  --output \"PPI_Analysis\""
   ]
  }
 ],
 "metadata": {
  "kernelspec": {
   "display_name": "Python 3",
   "language": "python",
   "name": "python3"
  },
  "language_info": {
   "codemirror_mode": {
    "name": "ipython",
    "version": 3
   },
   "file_extension": ".py",
   "mimetype": "text/x-python",
   "name": "python",
   "nbconvert_exporter": "python",
   "pygments_lexer": "ipython3",
   "version": "3.12.5"
  }
 },
 "nbformat": 4,
 "nbformat_minor": 5
}
